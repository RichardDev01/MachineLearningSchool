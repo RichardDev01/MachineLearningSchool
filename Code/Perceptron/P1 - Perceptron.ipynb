{
 "cells": [
  {
   "cell_type": "markdown",
   "metadata": {},
   "source": [
    "# P1 - Perceptron\n",
    "\n",
    "## Richard Jansen 1762581\n",
    "\n",
    "![](https://cdn.discordapp.com/attachments/701351521433944066/808318912126124052/unknown.png)"
   ]
  },
  {
   "cell_type": "code",
   "execution_count": 1,
   "metadata": {},
   "outputs": [],
   "source": [
    "import perceptron_mod as im\n",
    "import perceptronLayer_mod as ptl\n",
    "import perceptronNetwork_mod as ptn\n",
    "from itertools import product # for truth table"
   ]
  },
  {
   "cell_type": "code",
   "execution_count": 2,
   "metadata": {},
   "outputs": [],
   "source": [
    "def makeTruthTable(length):\n",
    "    return [p for p in product([1, 0], repeat=length)]\n",
    "   "
   ]
  },
  {
   "cell_type": "markdown",
   "metadata": {},
   "source": [
    "## INVERT Perceptron\n",
    "<img src=\"https://cdn.discordapp.com/attachments/808321877193916456/808321920998178816/20210208_140211.jpg\" width=\"400\">"
   ]
  },
  {
   "cell_type": "code",
   "execution_count": 3,
   "metadata": {},
   "outputs": [],
   "source": [
    "def inverter(I_input):\n",
    "    inputInverter = im.InputNW(inputWeight=[-1], bias=0.5, idPerceptron='Inverter')\n",
    "    \n",
    "    layerOneInv = ptl.perceptronLayer([inputInverter], idLayer= 'FirstLayer')\n",
    "    \n",
    "    networkOne = ptn.PerceptronNetwork([layerOneInv])\n",
    "    output = networkOne.feed_forward(I_input)\n",
    "    return output"
   ]
  },
  {
   "cell_type": "code",
   "execution_count": 4,
   "metadata": {
    "scrolled": true
   },
   "outputs": [
    {
     "name": "stdout",
     "output_type": "stream",
     "text": [
      "input = [1] and output [False]\n",
      "input = [0] and output [True]\n"
     ]
    }
   ],
   "source": [
    "table = makeTruthTable(1)\n",
    "for i in table:\n",
    "    print(f'input = {list(i)} and output {inverter(list(i))}')"
   ]
  },
  {
   "cell_type": "code",
   "execution_count": 5,
   "metadata": {},
   "outputs": [
    {
     "name": "stdout",
     "output_type": "stream",
     "text": [
      "layers = \\/\n",
      "\n",
      "FirstLayer perceptron.layer has: \n",
      " This is a Inverter Perceptron and has [(0, -1)] as input and has [-1] as weights and has 0.5 as bias\n",
      "  \n",
      " layer triggers[True]\n"
     ]
    }
   ],
   "source": [
    "inputInverter = im.InputNW(inputWeight=[-1], bias=0.5, idPerceptron='Inverter')\n",
    "\n",
    "layerOneInv = ptl.perceptronLayer([inputInverter], idLayer= 'FirstLayer')\n",
    "\n",
    "networkOne = ptn.PerceptronNetwork([layerOneInv])\n",
    "output = networkOne.feed_forward([0])\n",
    "print(networkOne)"
   ]
  },
  {
   "cell_type": "markdown",
   "metadata": {},
   "source": [
    "## AND Perceptron\n",
    "<img src=\"https://cdn.discordapp.com/attachments/808321877193916456/808324719711223809/20210208_141342.jpg\" width=\"400\">\n"
   ]
  },
  {
   "cell_type": "code",
   "execution_count": null,
   "metadata": {},
   "outputs": [],
   "source": []
  },
  {
   "cell_type": "code",
   "execution_count": 6,
   "metadata": {},
   "outputs": [],
   "source": [
    "def andNetwork(I_input):\n",
    "    inputAND = im.InputNW(inputWeight =[1,1], bias=-2, idPerceptron='AND')\n",
    "\n",
    "    layerOneAND = ptl.perceptronLayer([inputAND], idLayer= 'FirstLayer')\n",
    "    \n",
    "    networkOneAND = ptn.PerceptronNetwork([layerOneAND])\n",
    "    output = networkOneAND.feed_forward(I_input)\n",
    "    return output"
   ]
  },
  {
   "cell_type": "code",
   "execution_count": 7,
   "metadata": {},
   "outputs": [
    {
     "name": "stdout",
     "output_type": "stream",
     "text": [
      "input = [1, 1] and output [True]\n",
      "input = [1, 0] and output [False]\n",
      "input = [0, 1] and output [False]\n",
      "input = [0, 0] and output [False]\n"
     ]
    }
   ],
   "source": [
    "table = makeTruthTable(2)\n",
    "for i in table:\n",
    "    print(f'input = {list(i)} and output {andNetwork(list(i))}')"
   ]
  },
  {
   "cell_type": "code",
   "execution_count": 8,
   "metadata": {},
   "outputs": [
    {
     "name": "stdout",
     "output_type": "stream",
     "text": [
      "layers = \\/\n",
      "\n",
      "FirstLayer perceptron.layer has: \n",
      " This is a AND Perceptron and has [(0, 1), (1, 1)] as input and has [1, 1] as weights and has -2 as bias\n",
      "  \n",
      " layer triggers[False]\n"
     ]
    }
   ],
   "source": [
    "inputAND = im.InputNW(inputWeight =[1,1], bias=-2, idPerceptron='AND')\n",
    "\n",
    "layerOneAND = ptl.perceptronLayer([inputAND], idLayer= 'FirstLayer')\n",
    "\n",
    "networkOneAND = ptn.PerceptronNetwork([layerOneAND])\n",
    "output = networkOneAND.feed_forward([0,1])\n",
    "print(networkOneAND)"
   ]
  },
  {
   "cell_type": "markdown",
   "metadata": {},
   "source": [
    "## OR Perceptron\n",
    "<img src=\"https://cdn.discordapp.com/attachments/808321877193916456/808327166755733524/20210208_142327.jpg\" width=\"400\">\n"
   ]
  },
  {
   "cell_type": "code",
   "execution_count": 9,
   "metadata": {},
   "outputs": [],
   "source": [
    "def orNetwork(I_input):\n",
    "    inputOR = im.InputNW(inputWeight =[1,1], bias=-1, idPerceptron='Or')\n",
    "\n",
    "    layerOneOR = ptl.perceptronLayer([inputOR], idLayer= 'FirstLayer')\n",
    "    \n",
    "    networkOneOR = ptn.PerceptronNetwork([layerOneOR])\n",
    "    output = networkOneOR.feed_forward(I_input)\n",
    "    return output"
   ]
  },
  {
   "cell_type": "code",
   "execution_count": 10,
   "metadata": {},
   "outputs": [
    {
     "name": "stdout",
     "output_type": "stream",
     "text": [
      "input = [1, 1] and output [True]\n",
      "input = [1, 0] and output [True]\n",
      "input = [0, 1] and output [True]\n",
      "input = [0, 0] and output [False]\n"
     ]
    }
   ],
   "source": [
    "table = makeTruthTable(2)\n",
    "for i in table:\n",
    "    print(f'input = {list(i)} and output {orNetwork(list(i))}')"
   ]
  },
  {
   "cell_type": "code",
   "execution_count": 11,
   "metadata": {},
   "outputs": [
    {
     "name": "stdout",
     "output_type": "stream",
     "text": [
      "layers = \\/\n",
      "\n",
      "FirstLayer perceptron.layer has: \n",
      " This is a Or Perceptron and has [(1, 1), (0, 1)] as input and has [1, 1] as weights and has -1 as bias\n",
      "  \n",
      " layer triggers[True]\n"
     ]
    }
   ],
   "source": [
    "inputOR = im.InputNW(inputWeight =[1,1], bias=-1, idPerceptron='Or')\n",
    "\n",
    "layerOneOR = ptl.perceptronLayer([inputOR], idLayer= 'FirstLayer')\n",
    "\n",
    "networkOneOR = ptn.PerceptronNetwork([layerOneOR])\n",
    "output = networkOneOR.feed_forward([1,0])\n",
    "print(networkOneOR)"
   ]
  },
  {
   "cell_type": "markdown",
   "metadata": {},
   "source": [
    "## NOR Perceptron\n",
    "<img src=\"https://cdn.discordapp.com/attachments/808321877193916456/809050409875275786/20210210_141702.jpg\" width=\"400\">\n"
   ]
  },
  {
   "cell_type": "code",
   "execution_count": 12,
   "metadata": {},
   "outputs": [],
   "source": [
    "def norNetwork(I_input):\n",
    "    inputNOR = im.InputNW(inputWeight =[-1,-1,-1], bias=0, idPerceptron='Nor')\n",
    "    \n",
    "    layerOneNOR = ptl.perceptronLayer([inputNOR], idLayer= 'FirstLayer')\n",
    "    networkOneNOR = ptn.PerceptronNetwork([layerOneNOR])\n",
    "    output = networkOneNOR.feed_forward(I_input)\n",
    "    return output"
   ]
  },
  {
   "cell_type": "code",
   "execution_count": 13,
   "metadata": {},
   "outputs": [
    {
     "name": "stdout",
     "output_type": "stream",
     "text": [
      "input = [1, 1, 1] and output [False]\n",
      "input = [1, 1, 0] and output [False]\n",
      "input = [1, 0, 1] and output [False]\n",
      "input = [1, 0, 0] and output [False]\n",
      "input = [0, 1, 1] and output [False]\n",
      "input = [0, 1, 0] and output [False]\n",
      "input = [0, 0, 1] and output [False]\n",
      "input = [0, 0, 0] and output [True]\n"
     ]
    }
   ],
   "source": [
    "table = makeTruthTable(3)\n",
    "for i in table:\n",
    "    print(f'input = {list(i)} and output {norNetwork(list(i))}')"
   ]
  },
  {
   "cell_type": "code",
   "execution_count": 14,
   "metadata": {},
   "outputs": [
    {
     "name": "stdout",
     "output_type": "stream",
     "text": [
      "layers = \\/\n",
      "\n",
      "FirstLayer perceptron.layer has: \n",
      " This is a Nor Perceptron and has [(0, -1), (0, -1), (0, -1)] as input and has [-1, -1, -1] as weights and has 0 as bias\n",
      "  \n",
      " layer triggers[True]\n"
     ]
    }
   ],
   "source": [
    "inputNOR = im.InputNW(inputWeight =[-1,-1,-1], bias=0, idPerceptron='Nor')\n",
    "\n",
    "layerOneNOR = ptl.perceptronLayer([inputNOR], idLayer= 'FirstLayer')\n",
    "networkOneNOR = ptn.PerceptronNetwork([layerOneNOR])\n",
    "output = networkOneNOR.feed_forward([0,0,0])\n",
    "print(networkOneNOR)"
   ]
  },
  {
   "cell_type": "markdown",
   "metadata": {},
   "source": [
    "## Party Perceptron\n",
    "<img src=\"https://cdn.discordapp.com/attachments/808321877193916456/809052310406692874/unknown.png\" width=\"400\">\n"
   ]
  },
  {
   "cell_type": "code",
   "execution_count": 15,
   "metadata": {},
   "outputs": [],
   "source": [
    "def partyNetwork(I_input):\n",
    "    inputParty = im.InputNW(inputWeight =[0.6,0.3,0.2], bias=0, threshold = 0.4)\n",
    "    \n",
    "    inputlistParty = [inputParty]\n",
    "    \n",
    "    layerOneParty = ptl.perceptronLayer(inputlistParty, idLayer= 'FirstLayer')\n",
    "    networkOneParty = ptn.PerceptronNetwork([layerOneParty])\n",
    "    output = networkOneParty.feed_forward(I_input)\n",
    "    return output"
   ]
  },
  {
   "cell_type": "code",
   "execution_count": 16,
   "metadata": {},
   "outputs": [
    {
     "name": "stdout",
     "output_type": "stream",
     "text": [
      "input = [1, 1, 1] and output [True]\n",
      "input = [1, 1, 0] and output [True]\n",
      "input = [1, 0, 1] and output [True]\n",
      "input = [1, 0, 0] and output [True]\n",
      "input = [0, 1, 1] and output [True]\n",
      "input = [0, 1, 0] and output [False]\n",
      "input = [0, 0, 1] and output [False]\n",
      "input = [0, 0, 0] and output [False]\n"
     ]
    }
   ],
   "source": [
    "table = makeTruthTable(3)\n",
    "for i in table:\n",
    "    print(f'input = {list(i)} and output {partyNetwork(list(i))}')"
   ]
  },
  {
   "cell_type": "code",
   "execution_count": 17,
   "metadata": {
    "scrolled": true
   },
   "outputs": [
    {
     "name": "stdout",
     "output_type": "stream",
     "text": [
      "layers = \\/\n",
      "\n",
      "FirstLayer perceptron.layer has: \n",
      " This is a ND Perceptron and has [(1, 0.6), (1, 0.3), (1, 0.2)] as input and has [0.6, 0.3, 0.2] as weights and has 0 as bias\n",
      "  \n",
      " layer triggers[True]\n"
     ]
    }
   ],
   "source": [
    "inputParty = im.InputNW(inputWeight =[0.6,0.3,0.2], bias=0, threshold = 0.4)\n",
    "\n",
    "inputlistParty = [inputParty]\n",
    "\n",
    "layerOneParty = ptl.perceptronLayer(inputlistParty, idLayer= 'FirstLayer')\n",
    "networkOneParty = ptn.PerceptronNetwork([layerOneParty])\n",
    "output = networkOneParty.feed_forward([1,1,1])\n",
    "print(networkOneParty)"
   ]
  },
  {
   "cell_type": "markdown",
   "metadata": {},
   "source": [
    "# 2 perceptrons outputs test\n",
    "<img src=\"https://cdn.discordapp.com/attachments/808321877193916456/809397879273291806/20210211_131756.jpg\" width=\"400\">"
   ]
  },
  {
   "cell_type": "code",
   "execution_count": 18,
   "metadata": {},
   "outputs": [],
   "source": [
    "def NetworkAndOr(I_input):\n",
    "    inputAndOr1 = im.InputNW(inputWeight =[1,1,0,0], bias=-2, idPerceptron='AND')    \n",
    "    inputAndOr2 = im.InputNW(inputWeight =[0,0,1,1], bias=-1, idPerceptron='or')\n",
    "\n",
    "    layerOneAndOr = ptl.perceptronLayer([inputAndOr1,inputAndOr2], idLayer= 'FirstLayer')\n",
    "    \n",
    "    networkOneAndOr = ptn.PerceptronNetwork([layerOneAndOr])\n",
    "    output = networkOneAndOr.feed_forward(I_input)\n",
    "    return output"
   ]
  },
  {
   "cell_type": "code",
   "execution_count": 19,
   "metadata": {
    "scrolled": false
   },
   "outputs": [
    {
     "name": "stdout",
     "output_type": "stream",
     "text": [
      "input = [1, 1, 1, 1] and output [True, True]\n",
      "input = [1, 1, 1, 0] and output [True, True]\n",
      "input = [1, 1, 0, 1] and output [True, True]\n",
      "input = [1, 1, 0, 0] and output [True, False]\n",
      "input = [1, 0, 1, 1] and output [False, True]\n",
      "input = [1, 0, 1, 0] and output [False, True]\n",
      "input = [1, 0, 0, 1] and output [False, True]\n",
      "input = [1, 0, 0, 0] and output [False, False]\n",
      "input = [0, 1, 1, 1] and output [False, True]\n",
      "input = [0, 1, 1, 0] and output [False, True]\n",
      "input = [0, 1, 0, 1] and output [False, True]\n",
      "input = [0, 1, 0, 0] and output [False, False]\n",
      "input = [0, 0, 1, 1] and output [False, True]\n",
      "input = [0, 0, 1, 0] and output [False, True]\n",
      "input = [0, 0, 0, 1] and output [False, True]\n",
      "input = [0, 0, 0, 0] and output [False, False]\n"
     ]
    }
   ],
   "source": [
    "table = makeTruthTable(4)\n",
    "for i in table:\n",
    "    print(f'input = {list(i)} and output {NetworkAndOr(list(i))}')"
   ]
  },
  {
   "cell_type": "code",
   "execution_count": 20,
   "metadata": {
    "scrolled": true
   },
   "outputs": [
    {
     "name": "stdout",
     "output_type": "stream",
     "text": [
      "layers = \\/\n",
      "\n",
      "FirstLayer perceptron.layer has: \n",
      " This is a AND Perceptron and has [(1, 1), (1, 1), (0, 0), (0, 0)] as input and has [1, 1, 0, 0] as weights and has -2 as bias\n",
      " This is a OR Perceptron and has [(1, 0), (1, 0), (0, 1), (0, 1)] as input and has [0, 0, 1, 1] as weights and has -1 as bias\n",
      "  \n",
      " layer triggers[True, False]\n"
     ]
    }
   ],
   "source": [
    "inputAndOr1 = im.InputNW(inputWeight =[1,1,0,0], bias=-2, idPerceptron='AND')    \n",
    "inputAndOr2 = im.InputNW(inputWeight =[0,0,1,1], bias=-1, idPerceptron='OR')\n",
    "\n",
    "layerOneAndOr = ptl.perceptronLayer([inputAndOr1,inputAndOr2], idLayer= 'FirstLayer')\n",
    "\n",
    "networkOneAndOr = ptn.PerceptronNetwork([layerOneAndOr])\n",
    "output = networkOneAndOr.feed_forward([1, 1, 0, 0])\n",
    "print(networkOneAndOr)"
   ]
  },
  {
   "cell_type": "markdown",
   "metadata": {},
   "source": [
    "# 2 perceptron outputs test\n",
    "<img src=\"https://cdn.discordapp.com/attachments/808321877193916456/809399021315031090/20210211_132232.jpg\" width=\"400\">"
   ]
  },
  {
   "cell_type": "code",
   "execution_count": 21,
   "metadata": {},
   "outputs": [],
   "source": [
    "def NetworkAndInvOR(I_input):\n",
    "    inputAndInvOR1 = im.InputNW(inputWeight =[1,1,0], bias=-2, idPerceptron='AND')\n",
    "    inputAndInvOR2 = im.InputNW(inputWeight =[0,0,-1], bias=0.5, idPerceptron='INV')\n",
    "\n",
    "    layerOneAndInvOr = ptl.perceptronLayer([inputAndInvOR1,inputAndInvOR2], idLayer= 'FirstLayer')\n",
    "    \n",
    "    inputAndInvOR3 = im.InputNW(inputWeight =[1,1], bias=-1, idPerceptron='OR')\n",
    "\n",
    "    layerTwoAndInvOr = ptl.perceptronLayer([inputAndInvOR3], idLayer= 'SecondLayer')\n",
    "    \n",
    "    networkOneAndInvOR = ptn.PerceptronNetwork([layerOneAndInvOr, layerTwoAndInvOr])\n",
    "    output = networkOneAndInvOR.feed_forward(I_input)\n",
    "    return output"
   ]
  },
  {
   "cell_type": "code",
   "execution_count": 22,
   "metadata": {
    "scrolled": false
   },
   "outputs": [
    {
     "name": "stdout",
     "output_type": "stream",
     "text": [
      "        I1 I2 I3\n",
      "input = [0, 0, 0] and output [True]\n",
      "input = [0, 0, 1] and output [False]\n",
      "input = [0, 1, 0] and output [True]\n",
      "input = [0, 1, 1] and output [False]\n",
      "input = [1, 0, 0] and output [True]\n",
      "input = [1, 0, 1] and output [False]\n",
      "input = [1, 1, 0] and output [True]\n",
      "input = [1, 1, 1] and output [True]\n"
     ]
    }
   ],
   "source": [
    "table = makeTruthTable(3)[::-1]\n",
    "print(f'        I1 I2 I3')\n",
    "for i in table:\n",
    "    print(f'input = {list(i)} and output {NetworkAndInvOR(list(i))}')"
   ]
  },
  {
   "cell_type": "code",
   "execution_count": 23,
   "metadata": {
    "scrolled": false
   },
   "outputs": [
    {
     "name": "stdout",
     "output_type": "stream",
     "text": [
      "layers = \\/\n",
      "\n",
      "FirstLayer perceptron.layer has: \n",
      " This is a AND Perceptron and has [(1, 1), (1, 1), (1, 0)] as input and has [1, 1, 0] as weights and has -2 as bias\n",
      " This is a INV Perceptron and has [(1, 0), (1, 0), (1, -1)] as input and has [0, 0, -1] as weights and has 0.5 as bias\n",
      "  \n",
      " layer triggers[True, False]\n",
      "SecondLayer perceptron.layer has: \n",
      " This is a OR Perceptron and has [(True, 1), (False, 1)] as input and has [1, 1] as weights and has -1 as bias\n",
      "  \n",
      " layer triggers[True]\n"
     ]
    }
   ],
   "source": [
    "inputAndInvOR1 = im.InputNW(inputWeight =[1,1,0], bias=-2, idPerceptron='AND')\n",
    "inputAndInvOR2 = im.InputNW(inputWeight =[0,0,-1], bias=0.5, idPerceptron='INV')\n",
    "\n",
    "layerOneAndInvOr = ptl.perceptronLayer([inputAndInvOR1,inputAndInvOR2], idLayer= 'FirstLayer')\n",
    "\n",
    "inputAndInvOR3 = im.InputNW(inputWeight =[1,1], bias=-1, idPerceptron='OR')\n",
    "\n",
    "layerTwoAndInvOr = ptl.perceptronLayer([inputAndInvOR3], idLayer= 'SecondLayer')\n",
    "\n",
    "networkOneAndInvOR = ptn.PerceptronNetwork([layerOneAndInvOr, layerTwoAndInvOr])\n",
    "output = networkOneAndInvOR.feed_forward([1, 1, 1])\n",
    "print(networkOneAndInvOR)"
   ]
  },
  {
   "cell_type": "markdown",
   "metadata": {},
   "source": [
    "# XOR\n",
    "<img src=\"https://cdn.discordapp.com/attachments/808321877193916456/809080908430311434/20210210_161814.jpg\" width=\"400\">"
   ]
  },
  {
   "cell_type": "code",
   "execution_count": 24,
   "metadata": {},
   "outputs": [],
   "source": [
    "def NetworkXOR(I_input):\n",
    "    NAND = im.InputNW(inputWeight =[-1,-1], bias=1, idPerceptron='NAND')\n",
    "    OR   = im.InputNW(inputWeight=[1, 1], bias=-1, idPerceptron='OR')\n",
    "    \n",
    "    layerOneXOR = ptl.perceptronLayer([NAND,OR], idLayer='FirstLayer')\n",
    "    \n",
    "    AND  = im.InputNW(inputWeight =[1,1], bias=-2, idPerceptron='AND')\n",
    "\n",
    "    layerTwoXOR = ptl.perceptronLayer([AND], idLayer='SecondLayer')\n",
    "    \n",
    "    networkOneXOR = ptn.PerceptronNetwork([layerOneXOR, layerTwoXOR])\n",
    "    output = networkOneXOR.feed_forward(I_input)\n",
    "    return output"
   ]
  },
  {
   "cell_type": "code",
   "execution_count": 25,
   "metadata": {
    "scrolled": true
   },
   "outputs": [
    {
     "name": "stdout",
     "output_type": "stream",
     "text": [
      "input = [1, 1] and output [False]\n",
      "input = [1, 0] and output [True]\n",
      "input = [0, 1] and output [True]\n",
      "input = [0, 0] and output [False]\n"
     ]
    }
   ],
   "source": [
    "table = makeTruthTable(2)\n",
    "for i in table:\n",
    "    print(f'input = {list(i)} and output {NetworkXOR(list(i))}')"
   ]
  },
  {
   "cell_type": "code",
   "execution_count": 26,
   "metadata": {},
   "outputs": [
    {
     "name": "stdout",
     "output_type": "stream",
     "text": [
      "layers = \\/\n",
      "\n",
      "FirstLayer perceptron.layer has: \n",
      " This is a NAND Perceptron and has [(0, -1), (1, -1)] as input and has [-1, -1] as weights and has 1 as bias\n",
      " This is a OR Perceptron and has [(0, 1), (1, 1)] as input and has [1, 1] as weights and has -1 as bias\n",
      "  \n",
      " layer triggers[True, True]\n",
      "SecondLayer perceptron.layer has: \n",
      " This is a AND Perceptron and has [(True, 1), (True, 1)] as input and has [1, 1] as weights and has -2 as bias\n",
      "  \n",
      " layer triggers[True]\n"
     ]
    }
   ],
   "source": [
    "NAND = im.InputNW(inputWeight =[-1,-1], bias=1, idPerceptron='NAND')\n",
    "OR   = im.InputNW(inputWeight=[1, 1], bias=-1, idPerceptron='OR')\n",
    "\n",
    "layerOneXOR = ptl.perceptronLayer([NAND,OR], idLayer='FirstLayer')\n",
    "\n",
    "AND  = im.InputNW(inputWeight =[1,1], bias=-2, idPerceptron='AND')\n",
    "\n",
    "layerTwoXOR = ptl.perceptronLayer([AND], idLayer='SecondLayer')\n",
    "\n",
    "networkOneXOR = ptn.PerceptronNetwork([layerOneXOR, layerTwoXOR])\n",
    "output = networkOneXOR.feed_forward([0, 1])\n",
    "print(networkOneXOR)"
   ]
  },
  {
   "cell_type": "markdown",
   "metadata": {},
   "source": [
    "# Half adder\n",
    "<img src=\"https://cdn.discordapp.com/attachments/808321877193916456/809085023432867870/20210210_163449.jpg\" width=\"400\">"
   ]
  },
  {
   "cell_type": "code",
   "execution_count": 27,
   "metadata": {},
   "outputs": [],
   "source": [
    "def NetworkHalfAdder(I_input):\n",
    "    NAND1 = im.InputNW(inputWeight =[-1,-1], bias=1, idPerceptron='NAND 1')\n",
    "    OR1   = im.InputNW(inputWeight=[1, 1], bias=-1, idPerceptron='OR 1')\n",
    "    AND1  = im.InputNW(inputWeight =[1,1], bias=-2, idPerceptron='AND 1')\n",
    "\n",
    "    AND2 = im.InputNW(inputWeight =[1,1,0], bias=-2, idPerceptron='NAND 2')\n",
    "    REP1 = im.InputNW(inputWeight =[0,0,1], bias=-1, idPerceptron='REP 1')\n",
    "\n",
    "    layer1 = ptl.perceptronLayer([OR1, NAND1, AND1], idLayer='FirstLayer')\n",
    "    layer2 = ptl.perceptronLayer([AND2, REP1], idLayer='SecondLayer')\n",
    "\n",
    "    network = ptn.PerceptronNetwork([layer1,layer2])\n",
    "    \n",
    "    output = network.feed_forward(I_input)\n",
    "    return output"
   ]
  },
  {
   "cell_type": "code",
   "execution_count": 28,
   "metadata": {},
   "outputs": [
    {
     "name": "stdout",
     "output_type": "stream",
     "text": [
      "        I1 I2               Sum     Carry\n",
      "input = [1, 1] and output [False, True]\n",
      "input = [1, 0] and output [True, False]\n",
      "input = [0, 1] and output [True, False]\n",
      "input = [0, 0] and output [False, False]\n"
     ]
    }
   ],
   "source": [
    "table = makeTruthTable(2)\n",
    "print(f'        I1 I2               Sum     Carry')\n",
    "for i in table:\n",
    "    print(f'input = {list(i)} and output {NetworkHalfAdder(list(i))}')"
   ]
  },
  {
   "cell_type": "code",
   "execution_count": 29,
   "metadata": {},
   "outputs": [
    {
     "name": "stdout",
     "output_type": "stream",
     "text": [
      "layers = \\/\n",
      "\n",
      "FirstLayer perceptron.layer has: \n",
      " This is a OR 1 Perceptron and has [(1, 1), (1, 1)] as input and has [1, 1] as weights and has -1 as bias\n",
      " This is a NAND 1 Perceptron and has [(1, -1), (1, -1)] as input and has [-1, -1] as weights and has 1 as bias\n",
      " This is a AND 1 Perceptron and has [(1, 1), (1, 1)] as input and has [1, 1] as weights and has -2 as bias\n",
      "  \n",
      " layer triggers[True, False, True]\n",
      "SecondLayer perceptron.layer has: \n",
      " This is a NAND 2 Perceptron and has [(True, 1), (False, 1), (True, 0)] as input and has [1, 1, 0] as weights and has -2 as bias\n",
      " This is a REP 1 Perceptron and has [(True, 0), (False, 0), (True, 1)] as input and has [0, 0, 1] as weights and has -1 as bias\n",
      "  \n",
      " layer triggers[False, True]\n"
     ]
    }
   ],
   "source": [
    "NAND1 = im.InputNW(inputWeight =[-1,-1], bias=1, idPerceptron='NAND 1')\n",
    "OR1   = im.InputNW(inputWeight=[1, 1], bias=-1, idPerceptron='OR 1')\n",
    "AND1  = im.InputNW(inputWeight =[1,1], bias=-2, idPerceptron='AND 1')\n",
    "\n",
    "AND2 = im.InputNW(inputWeight =[1,1,0], bias=-2, idPerceptron='NAND 2')\n",
    "REP1 = im.InputNW(inputWeight =[0,0,1], bias=-1, idPerceptron='REP 1')\n",
    "\n",
    "layer1 = ptl.perceptronLayer([OR1, NAND1, AND1], idLayer='FirstLayer')\n",
    "layer2 = ptl.perceptronLayer([AND2, REP1], idLayer='SecondLayer')\n",
    "\n",
    "network = ptn.PerceptronNetwork([layer1,layer2])\n",
    "\n",
    "output = network.feed_forward([1, 1])\n",
    "print(network)"
   ]
  },
  {
   "cell_type": "code",
   "execution_count": null,
   "metadata": {},
   "outputs": [],
   "source": []
  }
 ],
 "metadata": {
  "kernelspec": {
   "display_name": "Python 3",
   "language": "python",
   "name": "python3"
  },
  "language_info": {
   "codemirror_mode": {
    "name": "ipython",
    "version": 3
   },
   "file_extension": ".py",
   "mimetype": "text/x-python",
   "name": "python",
   "nbconvert_exporter": "python",
   "pygments_lexer": "ipython3",
   "version": "3.8.6"
  }
 },
 "nbformat": 4,
 "nbformat_minor": 4
}
