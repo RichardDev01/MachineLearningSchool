{
 "cells": [
  {
   "cell_type": "markdown",
   "metadata": {},
   "source": [
    "# P1 - Perceptron\n",
    "\n",
    "![](https://cdn.discordapp.com/attachments/701351521433944066/808318912126124052/unknown.png)"
   ]
  },
  {
   "cell_type": "code",
   "execution_count": 1,
   "metadata": {},
   "outputs": [],
   "source": [
    "import perceptron_mod as im\n",
    "import perceptronLayer_mod as ptl\n",
    "import perceptronNetwork_mod as ptn\n",
    "from itertools import product # for truth table"
   ]
  },
  {
   "cell_type": "code",
   "execution_count": 2,
   "metadata": {},
   "outputs": [],
   "source": [
    "def makeTruthTable(length):\n",
    "    return [p for p in product([1, 0], repeat=length)]\n",
    "   "
   ]
  },
  {
   "cell_type": "markdown",
   "metadata": {},
   "source": [
    "## INVERT Perceptron\n",
    "<img src=\"https://cdn.discordapp.com/attachments/808321877193916456/808321920998178816/20210208_140211.jpg\" width=\"400\">"
   ]
  },
  {
   "cell_type": "code",
   "execution_count": 3,
   "metadata": {},
   "outputs": [],
   "source": [
    "def inverter(I_input):\n",
    "    inputInverter = im.InputNW(inputWeight=[-1], bias=0.5)\n",
    "    inputInverter.activate(I_input)\n",
    "    inputlistInverter = [inputInverter]\n",
    "    layerOneInv = ptl.perceptronLayer(inputlistInverter, idLayer= 'Inverter')\n",
    "    networkOne = ptn.PerceptronNetwork([layerOneInv])\n",
    "    return networkOne"
   ]
  },
  {
   "cell_type": "code",
   "execution_count": 4,
   "metadata": {},
   "outputs": [
    {
     "name": "stdout",
     "output_type": "stream",
     "text": [
      "input = [1] and output [[False]]\n",
      "input = [0] and output [[True]]\n"
     ]
    }
   ],
   "source": [
    "table = makeTruthTable(1)\n",
    "for i in table:\n",
    "    print(f'input = {list(i)} and output {inverter(list(i)).feed_forward()}')"
   ]
  },
  {
   "cell_type": "code",
   "execution_count": 5,
   "metadata": {},
   "outputs": [
    {
     "name": "stdout",
     "output_type": "stream",
     "text": [
      "forwardfeed = [[True]] \n",
      "layers = \\/\n",
      "Inverterp.layer has: \n",
      " This input has [(0, -1)] as input and has [-1] as input and input has 0.5 as bias\n",
      "  \n",
      " layer triggers[True]\n"
     ]
    }
   ],
   "source": [
    "print(inverter(list(i)))"
   ]
  },
  {
   "cell_type": "markdown",
   "metadata": {},
   "source": [
    "## AND Perceptron\n",
    "<img src=\"https://cdn.discordapp.com/attachments/808321877193916456/808324719711223809/20210208_141342.jpg\" width=\"400\">\n"
   ]
  },
  {
   "cell_type": "code",
   "execution_count": null,
   "metadata": {},
   "outputs": [],
   "source": []
  },
  {
   "cell_type": "code",
   "execution_count": 6,
   "metadata": {},
   "outputs": [],
   "source": [
    "def andNetwork(I_input):\n",
    "    inputAND = im.InputNW(inputWeight =[1,1], bias=-2)\n",
    "    inputAND.activate(I_input)\n",
    "    inputlistAND = [inputAND]\n",
    "    layerOneAND = ptl.perceptronLayer(inputlistAND)\n",
    "    networkOneAND = ptn.PerceptronNetwork([layerOneAND])\n",
    "    return networkOneAND"
   ]
  },
  {
   "cell_type": "code",
   "execution_count": 7,
   "metadata": {},
   "outputs": [
    {
     "name": "stdout",
     "output_type": "stream",
     "text": [
      "input = [1, 1] and output [[True]]\n",
      "input = [1, 0] and output [[False]]\n",
      "input = [0, 1] and output [[False]]\n",
      "input = [0, 0] and output [[False]]\n"
     ]
    }
   ],
   "source": [
    "table = makeTruthTable(2)\n",
    "for i in table:\n",
    "    print(f'input = {list(i)} and output {andNetwork(list(i)).feed_forward()}')"
   ]
  },
  {
   "cell_type": "code",
   "execution_count": 8,
   "metadata": {},
   "outputs": [
    {
     "name": "stdout",
     "output_type": "stream",
     "text": [
      "forwardfeed = [[False]] \n",
      "layers = \\/\n",
      "NDp.layer has: \n",
      " This input has [(0, 1), (0, 1)] as input and has [1, 1] as input and input has -2 as bias\n",
      "  \n",
      " layer triggers[False]\n"
     ]
    }
   ],
   "source": [
    "print(andNetwork(list(i)))"
   ]
  },
  {
   "cell_type": "markdown",
   "metadata": {},
   "source": [
    "## OR Perceptron\n",
    "<img src=\"https://cdn.discordapp.com/attachments/808321877193916456/808327166755733524/20210208_142327.jpg\" width=\"400\">\n"
   ]
  },
  {
   "cell_type": "code",
   "execution_count": 9,
   "metadata": {},
   "outputs": [],
   "source": [
    "def orNetwork(I_input):\n",
    "    inputOR = im.InputNW(inputWeight =[1,1], bias=-1)\n",
    "    inputOR.activate(I_input)\n",
    "    inputlistOR = [inputOR]\n",
    "    layerOneOR = ptl.perceptronLayer(inputlistOR)\n",
    "    networkOneOR = ptn.PerceptronNetwork([layerOneOR])\n",
    "    return networkOneOR"
   ]
  },
  {
   "cell_type": "code",
   "execution_count": 10,
   "metadata": {},
   "outputs": [
    {
     "name": "stdout",
     "output_type": "stream",
     "text": [
      "input = [1, 1] and output [[True]]\n",
      "input = [1, 0] and output [[True]]\n",
      "input = [0, 1] and output [[True]]\n",
      "input = [0, 0] and output [[False]]\n"
     ]
    }
   ],
   "source": [
    "table = makeTruthTable(2)\n",
    "for i in table:\n",
    "    print(f'input = {list(i)} and output {orNetwork(list(i)).feed_forward()}')"
   ]
  },
  {
   "cell_type": "code",
   "execution_count": 11,
   "metadata": {},
   "outputs": [
    {
     "name": "stdout",
     "output_type": "stream",
     "text": [
      "forwardfeed = [[False]] \n",
      "layers = \\/\n",
      "NDp.layer has: \n",
      " This input has [(0, 1), (0, 1)] as input and has [1, 1] as input and input has -1 as bias\n",
      "  \n",
      " layer triggers[False]\n"
     ]
    }
   ],
   "source": [
    "print(orNetwork(list(i)))"
   ]
  },
  {
   "cell_type": "markdown",
   "metadata": {},
   "source": [
    "## NOR Perceptron\n",
    "<img src=\"https://cdn.discordapp.com/attachments/808321877193916456/809050409875275786/20210210_141702.jpg\" width=\"400\">\n"
   ]
  },
  {
   "cell_type": "code",
   "execution_count": 12,
   "metadata": {},
   "outputs": [],
   "source": [
    "def norNetwork(I_input):\n",
    "    inputNOR = im.InputNW(inputWeight =[-1,-1,-1], bias=0)\n",
    "    inputNOR.activate(I_input)\n",
    "    inputlistNOR = [inputNOR]\n",
    "    layerOneNOR = ptl.perceptronLayer(inputlistNOR)\n",
    "    networkOneNOR = ptn.PerceptronNetwork([layerOneNOR])\n",
    "    return networkOneNOR"
   ]
  },
  {
   "cell_type": "code",
   "execution_count": 13,
   "metadata": {},
   "outputs": [
    {
     "name": "stdout",
     "output_type": "stream",
     "text": [
      "input = [1, 1, 1] and output [[False]]\n",
      "input = [1, 1, 0] and output [[False]]\n",
      "input = [1, 0, 1] and output [[False]]\n",
      "input = [1, 0, 0] and output [[False]]\n",
      "input = [0, 1, 1] and output [[False]]\n",
      "input = [0, 1, 0] and output [[False]]\n",
      "input = [0, 0, 1] and output [[False]]\n",
      "input = [0, 0, 0] and output [[True]]\n"
     ]
    }
   ],
   "source": [
    "table = makeTruthTable(3)\n",
    "for i in table:\n",
    "    print(f'input = {list(i)} and output {norNetwork(list(i)).feed_forward()}')"
   ]
  },
  {
   "cell_type": "code",
   "execution_count": 14,
   "metadata": {},
   "outputs": [
    {
     "name": "stdout",
     "output_type": "stream",
     "text": [
      "forwardfeed = [[True]] \n",
      "layers = \\/\n",
      "NDp.layer has: \n",
      " This input has [(0, -1), (0, -1), (0, -1)] as input and has [-1, -1, -1] as input and input has 0 as bias\n",
      "  \n",
      " layer triggers[True]\n"
     ]
    }
   ],
   "source": [
    "print(norNetwork(list(i)))"
   ]
  },
  {
   "cell_type": "markdown",
   "metadata": {},
   "source": [
    "## Party Perceptron\n",
    "<img src=\"https://cdn.discordapp.com/attachments/808321877193916456/809052310406692874/unknown.png\" width=\"400\">\n"
   ]
  },
  {
   "cell_type": "code",
   "execution_count": 15,
   "metadata": {},
   "outputs": [],
   "source": [
    "def partyNetwork(I_input):\n",
    "    inputParty = im.InputNW(inputWeight =[0.6,0.3,0.2], bias=0, threshold = 0.4)\n",
    "    inputParty.activate(I_input)\n",
    "    inputlistParty = [inputParty]\n",
    "    layerOneParty = ptl.perceptronLayer(inputlistParty)\n",
    "    networkOneParty = ptn.PerceptronNetwork([layerOneParty])\n",
    "    return networkOneParty"
   ]
  },
  {
   "cell_type": "code",
   "execution_count": 16,
   "metadata": {},
   "outputs": [
    {
     "name": "stdout",
     "output_type": "stream",
     "text": [
      "input = [1, 1, 1] and output [[True]]\n",
      "input = [1, 1, 0] and output [[True]]\n",
      "input = [1, 0, 1] and output [[True]]\n",
      "input = [1, 0, 0] and output [[True]]\n",
      "input = [0, 1, 1] and output [[True]]\n",
      "input = [0, 1, 0] and output [[False]]\n",
      "input = [0, 0, 1] and output [[False]]\n",
      "input = [0, 0, 0] and output [[False]]\n"
     ]
    }
   ],
   "source": [
    "table = makeTruthTable(3)\n",
    "for i in table:\n",
    "    print(f'input = {list(i)} and output {partyNetwork(list(i)).feed_forward()}')"
   ]
  },
  {
   "cell_type": "code",
   "execution_count": 17,
   "metadata": {
    "scrolled": true
   },
   "outputs": [
    {
     "name": "stdout",
     "output_type": "stream",
     "text": [
      "forwardfeed = [[False]] \n",
      "layers = \\/\n",
      "NDp.layer has: \n",
      " This input has [(0, 0.6), (0, 0.3), (0, 0.2)] as input and has [0.6, 0.3, 0.2] as input and input has 0 as bias\n",
      "  \n",
      " layer triggers[False]\n"
     ]
    }
   ],
   "source": [
    "print(partyNetwork(list(i)))"
   ]
  },
  {
   "cell_type": "markdown",
   "metadata": {},
   "source": [
    "# 2 perceptrons outputs test\n",
    "<img src=\"https://cdn.discordapp.com/attachments/808321877193916456/809054321198366760/20210210_143250.jpg\" width=\"400\">"
   ]
  },
  {
   "cell_type": "code",
   "execution_count": 18,
   "metadata": {},
   "outputs": [],
   "source": [
    "def NetworkAndOr(I_input):\n",
    "    inputAndOr1 = im.InputNW(inputWeight =[1,1], bias=-2)\n",
    "    inputAndOr1.activate(I_input[:2])\n",
    "    \n",
    "    inputAndOr2 = im.InputNW(inputWeight =[1,1], bias=-1)\n",
    "    inputAndOr2.activate(I_input[2:])\n",
    "    \n",
    "    inputlistAndOr = [inputAndOr1,inputAndOr2]\n",
    "    layerOneAndOr = ptl.perceptronLayer(inputlistAndOr)\n",
    "    \n",
    "    networkOneAndOr = ptn.PerceptronNetwork([layerOneAndOr])\n",
    "    return networkOneAndOr"
   ]
  },
  {
   "cell_type": "code",
   "execution_count": 19,
   "metadata": {
    "scrolled": false
   },
   "outputs": [
    {
     "name": "stdout",
     "output_type": "stream",
     "text": [
      "input = [1, 1, 1, 1] and output [[True, True]]\n",
      "input = [1, 1, 1, 0] and output [[True, True]]\n",
      "input = [1, 1, 0, 1] and output [[True, True]]\n",
      "input = [1, 1, 0, 0] and output [[True, False]]\n",
      "input = [1, 0, 1, 1] and output [[False, True]]\n",
      "input = [1, 0, 1, 0] and output [[False, True]]\n",
      "input = [1, 0, 0, 1] and output [[False, True]]\n",
      "input = [1, 0, 0, 0] and output [[False, False]]\n",
      "input = [0, 1, 1, 1] and output [[False, True]]\n",
      "input = [0, 1, 1, 0] and output [[False, True]]\n",
      "input = [0, 1, 0, 1] and output [[False, True]]\n",
      "input = [0, 1, 0, 0] and output [[False, False]]\n",
      "input = [0, 0, 1, 1] and output [[False, True]]\n",
      "input = [0, 0, 1, 0] and output [[False, True]]\n",
      "input = [0, 0, 0, 1] and output [[False, True]]\n",
      "input = [0, 0, 0, 0] and output [[False, False]]\n"
     ]
    }
   ],
   "source": [
    "table = makeTruthTable(4)\n",
    "for i in table:\n",
    "    print(f'input = {list(i)} and output {NetworkAndOr(list(i)).feed_forward()}')"
   ]
  },
  {
   "cell_type": "code",
   "execution_count": 20,
   "metadata": {
    "scrolled": true
   },
   "outputs": [
    {
     "name": "stdout",
     "output_type": "stream",
     "text": [
      "forwardfeed = [[False, False]] \n",
      "layers = \\/\n",
      "NDp.layer has: \n",
      " This input has [(0, 1), (0, 1)] as input and has [1, 1] as input and input has -2 as bias\n",
      " This input has [(0, 1), (0, 1)] as input and has [1, 1] as input and input has -1 as bias\n",
      "  \n",
      " layer triggers[False, False]\n"
     ]
    }
   ],
   "source": [
    "print(NetworkAndOr(list(i)))"
   ]
  },
  {
   "cell_type": "markdown",
   "metadata": {},
   "source": [
    "# 2 perceptron outputs test\n",
    "<img src=\"https://cdn.discordapp.com/attachments/808321877193916456/809073520251633684/20210210_154903.jpg\" width=\"400\">"
   ]
  },
  {
   "cell_type": "code",
   "execution_count": 21,
   "metadata": {},
   "outputs": [],
   "source": [
    "def NetworkAndInvOR(I_input):\n",
    "    inputAndInvOR1 = im.InputNW(inputWeight =[1,1], bias=-2)\n",
    "    inputAndInvOR1.activate(I_input[:2])\n",
    "    \n",
    "    inputAndInvOR2 = im.InputNW(inputWeight =[-1], bias=0.5)\n",
    "    inputAndInvOR2.activate(I_input[2:])\n",
    "    \n",
    "    inputlistAndInvOr = [inputAndInvOR1,inputAndInvOR2]\n",
    "    layerOneAndInvOr = ptl.perceptronLayer(inputlistAndInvOr)\n",
    "    \n",
    "    ##############################################\n",
    "    \n",
    "    inputAndInvOR3 = im.InputNW(inputWeight =[1,1], bias=-1)\n",
    "    inputAndInvOR3.activate(layerOneAndInvOr.activation_triggers())\n",
    "    \n",
    "    inputlist2AndInvOr = [inputAndInvOR3]\n",
    "    layerTwoAndInvOr = ptl.perceptronLayer(inputlist2AndInvOr)\n",
    "    \n",
    "    networkOneAndInvOR = ptn.PerceptronNetwork([layerTwoAndInvOr])\n",
    "    return networkOneAndInvOR"
   ]
  },
  {
   "cell_type": "code",
   "execution_count": 22,
   "metadata": {
    "scrolled": false
   },
   "outputs": [
    {
     "name": "stdout",
     "output_type": "stream",
     "text": [
      "        I1 I2 I3\n",
      "input = [0, 0, 0] and output [[True]]\n",
      "input = [0, 0, 1] and output [[False]]\n",
      "input = [0, 1, 0] and output [[True]]\n",
      "input = [0, 1, 1] and output [[False]]\n",
      "input = [1, 0, 0] and output [[True]]\n",
      "input = [1, 0, 1] and output [[False]]\n",
      "input = [1, 1, 0] and output [[True]]\n",
      "input = [1, 1, 1] and output [[True]]\n"
     ]
    }
   ],
   "source": [
    "table = makeTruthTable(3)[::-1]\n",
    "print(f'        I1 I2 I3')\n",
    "for i in table:\n",
    "    print(f'input = {list(i)} and output {NetworkAndInvOR(list(i)).feed_forward()}')"
   ]
  },
  {
   "cell_type": "code",
   "execution_count": 23,
   "metadata": {
    "scrolled": false
   },
   "outputs": [
    {
     "name": "stdout",
     "output_type": "stream",
     "text": [
      "forwardfeed = [[True]] \n",
      "layers = \\/\n",
      "NDp.layer has: \n",
      " This input has [(False, 1), (True, 1)] as input and has [1, 1] as input and input has -1 as bias\n",
      "  \n",
      " layer triggers[True]\n"
     ]
    }
   ],
   "source": [
    "print(NetworkAndInvOR([0, 0, 0]))"
   ]
  },
  {
   "cell_type": "markdown",
   "metadata": {},
   "source": [
    "# XOR\n",
    "<img src=\"https://cdn.discordapp.com/attachments/808321877193916456/809080908430311434/20210210_161814.jpg\" width=\"400\">"
   ]
  },
  {
   "cell_type": "code",
   "execution_count": 24,
   "metadata": {},
   "outputs": [],
   "source": [
    "def NetworkXOR(I_input):\n",
    "    #NAND\n",
    "    inputXOR1 = im.InputNW(inputWeight =[-1,-1], bias=1)\n",
    "    inputXOR1.activate(I_input)\n",
    "    \n",
    "    #OR\n",
    "    inputXOR2 = im.InputNW(inputWeight =[1,1], bias= -1)\n",
    "    inputXOR2.activate(I_input)\n",
    "    \n",
    "    inputlistXOR = [inputXOR1,inputXOR2]\n",
    "    layerOneXOR = ptl.perceptronLayer(inputlistXOR)\n",
    "    \n",
    "    ##############################################\n",
    "    \n",
    "    #AND\n",
    "    inputXOR3 = im.InputNW(inputWeight =[1,1], bias=-2)\n",
    "    inputXOR3.activate(layerOneXOR.activation_triggers())\n",
    "    \n",
    "    inputlist2XOR = [inputXOR3]\n",
    "    layerTwoXOR = ptl.perceptronLayer(inputlist2XOR)\n",
    "    \n",
    "    networkOneXOR = ptn.PerceptronNetwork([layerTwoXOR])\n",
    "    return networkOneXOR"
   ]
  },
  {
   "cell_type": "code",
   "execution_count": 25,
   "metadata": {},
   "outputs": [
    {
     "name": "stdout",
     "output_type": "stream",
     "text": [
      "input = [1, 1] and output [[False]]\n",
      "input = [1, 0] and output [[True]]\n",
      "input = [0, 1] and output [[True]]\n",
      "input = [0, 0] and output [[False]]\n"
     ]
    }
   ],
   "source": [
    "table = makeTruthTable(2)\n",
    "for i in table:\n",
    "    print(f'input = {list(i)} and output {NetworkXOR(list(i)).feed_forward()}')"
   ]
  },
  {
   "cell_type": "markdown",
   "metadata": {},
   "source": [
    "# Half adder\n",
    "<img src=\"https://cdn.discordapp.com/attachments/808321877193916456/809085023432867870/20210210_163449.jpg\" width=\"400\">"
   ]
  },
  {
   "cell_type": "code",
   "execution_count": 26,
   "metadata": {},
   "outputs": [],
   "source": [
    "def NetworkHalfAdder(I_input):\n",
    "    #NAND\n",
    "    inputHalfAdder1 = im.InputNW(inputWeight =[-1,-1], bias=1)\n",
    "    inputHalfAdder1.activate(I_input)\n",
    "    \n",
    "    #OR\n",
    "    inputHalfAdder2 = im.InputNW(inputWeight =[1,1], bias= -1)\n",
    "    inputHalfAdder2.activate(I_input)\n",
    "    \n",
    "    #AND\n",
    "    inputHalfAdder3 = im.InputNW(inputWeight =[1,1], bias=-2)\n",
    "    inputHalfAdder3.activate(I_input)\n",
    "    \n",
    "    inputlistHalfAdder = [inputHalfAdder1,inputHalfAdder2,inputHalfAdder3]\n",
    "    layerOneHalfAdder = ptl.perceptronLayer(inputlistHalfAdder)\n",
    "    \n",
    "\n",
    "    \n",
    "    ##############################################\n",
    "    \n",
    "    #AND 2\n",
    "    inputHalfAdder4 = im.InputNW(inputWeight =[1,1,0], bias=-2)\n",
    "    inputHalfAdder4.activate(layerOneHalfAdder.activation_triggers())\n",
    "    \n",
    "    #Pass through (1 op 1 door)\n",
    "    inputHalfAdder5 = im.InputNW(inputWeight =[0,0,1], bias=-1)\n",
    "    inputHalfAdder5.activate(layerOneHalfAdder.activation_triggers())\n",
    "    \n",
    "    inputlist2HalfAdder = [inputHalfAdder4, inputHalfAdder5]\n",
    "    layerTwoHalfAdder = ptl.perceptronLayer(inputlist2HalfAdder)\n",
    "    \n",
    "    networkOneHalfAdder = ptn.PerceptronNetwork([layerTwoHalfAdder])\n",
    "    return networkOneHalfAdder"
   ]
  },
  {
   "cell_type": "code",
   "execution_count": 27,
   "metadata": {},
   "outputs": [
    {
     "name": "stdout",
     "output_type": "stream",
     "text": [
      "        I1 I2               Sum     Carry\n",
      "input = [1, 1] and output [[False, True]]\n",
      "input = [1, 0] and output [[True, False]]\n",
      "input = [0, 1] and output [[True, False]]\n",
      "input = [0, 0] and output [[False, False]]\n"
     ]
    }
   ],
   "source": [
    "table = makeTruthTable(2)\n",
    "print(f'        I1 I2               Sum     Carry')\n",
    "for i in table:\n",
    "    print(f'input = {list(i)} and output {NetworkHalfAdder(list(i)).feed_forward()}')"
   ]
  },
  {
   "cell_type": "code",
   "execution_count": null,
   "metadata": {},
   "outputs": [],
   "source": []
  }
 ],
 "metadata": {
  "kernelspec": {
   "display_name": "Python 3",
   "language": "python",
   "name": "python3"
  },
  "language_info": {
   "codemirror_mode": {
    "name": "ipython",
    "version": 3
   },
   "file_extension": ".py",
   "mimetype": "text/x-python",
   "name": "python",
   "nbconvert_exporter": "python",
   "pygments_lexer": "ipython3",
   "version": "3.8.6"
  }
 },
 "nbformat": 4,
 "nbformat_minor": 4
}
