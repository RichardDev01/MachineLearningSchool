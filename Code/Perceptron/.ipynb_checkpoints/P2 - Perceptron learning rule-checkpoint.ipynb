{
 "cells": [
  {
   "cell_type": "markdown",
   "metadata": {},
   "source": [
    "# P2 - Perceptron learning rule\n",
    "\n",
    "## Richard Jansen 1762581\n",
    "\n",
    "![](https://cdn.discordapp.com/attachments/808321877193916456/811985055781486643/unknown.png)"
   ]
  },
  {
   "cell_type": "code",
   "execution_count": 1,
   "metadata": {},
   "outputs": [],
   "source": [
    "import perceptron_mod as im\n",
    "import perceptronLayer_mod as ptl\n",
    "import perceptronNetwork_mod as ptn\n",
    "from sklearn.metrics import accuracy_score\n",
    "import random\n",
    "\n",
    "from itertools import product # for truth table"
   ]
  },
  {
   "cell_type": "code",
   "execution_count": 2,
   "metadata": {},
   "outputs": [],
   "source": [
    "random.seed(1762581)"
   ]
  },
  {
   "cell_type": "code",
   "execution_count": 3,
   "metadata": {},
   "outputs": [],
   "source": [
    "def random_number_list(size_n):\n",
    "    randomnumber_list = []\n",
    "    for ri in range(size_n):\n",
    "        randomnumber_list.append(round(random.random()*10,1))\n",
    "    return randomnumber_list\n",
    "\n",
    "def random_number_float():\n",
    "    return random.randint(-10, 10) "
   ]
  },
  {
   "cell_type": "code",
   "execution_count": 4,
   "metadata": {},
   "outputs": [
    {
     "data": {
      "text/plain": [
       "-3"
      ]
     },
     "execution_count": 4,
     "metadata": {},
     "output_type": "execute_result"
    }
   ],
   "source": [
    "random.randint(-10, 10) "
   ]
  },
  {
   "cell_type": "code",
   "execution_count": 5,
   "metadata": {
    "scrolled": true
   },
   "outputs": [
    {
     "data": {
      "text/plain": [
       "[1.2, 2.1]"
      ]
     },
     "execution_count": 5,
     "metadata": {},
     "output_type": "execute_result"
    }
   ],
   "source": [
    "random_number_list(2)"
   ]
  },
  {
   "cell_type": "markdown",
   "metadata": {},
   "source": [
    "## AND Perceptron\n",
    "\n",
    "Train de perceptron tot het de AND-functie heeft geleerd. Initialiseer een perceptron met willekeurige startwaarden. Wat zijn de uiteindelijke parameters van de perceptron?"
   ]
  },
  {
   "cell_type": "code",
   "execution_count": 6,
   "metadata": {},
   "outputs": [],
   "source": [
    "expected_output_and = (([1, 1], [True]),\n",
    "                       ([1, 0], [False]),\n",
    "                       ([0, 1], [False]),\n",
    "                       ([0, 0], [False]))"
   ]
  },
  {
   "cell_type": "code",
   "execution_count": 7,
   "metadata": {
    "scrolled": true
   },
   "outputs": [
    {
     "name": "stdout",
     "output_type": "stream",
     "text": [
      "The start values of the Perceptron \\/\n",
      "This is a AND 1 Perceptron and has [1, 1] as input and has [4.4, 8.5] as weights and has -1 as bias and output of this perceptron = True\n",
      " The Error = 0.5\n",
      "\n",
      "The Ending values of the Perceptron \\/\n",
      "This is a AND 1 Perceptron and has [1, 1] as input and has [3.200000000000001, 5.300000000000011] as weights and has -5.399999999999998 as bias and output of this perceptron = True\n",
      " The Error = 0.0\n",
      "\n"
     ]
    }
   ],
   "source": [
    "AND1 = im.InputNW(inputWeight=random_number_list(2), bias=random_number_float(), idPerceptron='AND 1')\n",
    "AND1.activate([1,1])\n",
    "\n",
    "print(f\"The start values of the Perceptron \\/\\n{AND1}The Error = {AND1.error(expected_output_and)}\\n\")\n",
    "\n",
    "AND1.update(expected_output_and, epoch=5000)\n",
    "AND1.activate([1, 1])\n",
    "\n",
    "print(f\"The Ending values of the Perceptron \\/\\n{AND1}The Error = {AND1.error(expected_output_and)}\\n\")\n"
   ]
  },
  {
   "cell_type": "markdown",
   "metadata": {},
   "source": [
    "## XOR Perceptron\n",
    "\n",
    "Train de perceptron tot het de XOR-functie heeft geleerd. Initialiseer een perceptron met willekeurige startwaarden. Wat zijn de uiteindelijke parameters van de perceptron?"
   ]
  },
  {
   "cell_type": "code",
   "execution_count": 8,
   "metadata": {},
   "outputs": [
    {
     "data": {
      "text/plain": [
       "(([1, 1], [False]), ([1, 0], [True]), ([0, 1], [True]), ([0, 0], [False]))"
      ]
     },
     "execution_count": 8,
     "metadata": {},
     "output_type": "execute_result"
    }
   ],
   "source": [
    "expected_output_XOR =  (([1, 1],[False]),\n",
    "                    ([1, 0],[True]),\n",
    "                    ([0, 1],[True]),\n",
    "                    ([0, 0],[False]))\n",
    "expected_output_XOR"
   ]
  },
  {
   "cell_type": "code",
   "execution_count": 9,
   "metadata": {},
   "outputs": [
    {
     "name": "stdout",
     "output_type": "stream",
     "text": [
      "The start values of the Perceptron \\/\n",
      "This is a XOR 1 Perceptron and has [1, 1] as input and has [5.0, 7.4] as weights and has 7 as bias and output of this perceptron = True\n",
      " The Error = 0.5\n",
      "\n",
      "The Ending values of the Perceptron \\/\n",
      "This is a XOR 1 Perceptron and has [1, 1] as input and has [0.20000000000000104, 0.10000000000000991] as weights and has -0.09999999999999193 as bias and output of this perceptron = True\n",
      " The Error = 0.25\n",
      "\n"
     ]
    }
   ],
   "source": [
    "XOR1 = im.InputNW(inputWeight=random_number_list(2), bias=random_number_float(), idPerceptron='XOR 1')\n",
    "XOR1.activate([1,1])\n",
    "\n",
    "print(f\"The start values of the Perceptron \\/\\n{XOR1}The Error = {XOR1.error(expected_output_XOR)}\\n\")\n",
    "\n",
    "XOR1.update(expected_output_XOR, epoch=5000)\n",
    "XOR1.activate([1, 1])\n",
    "\n",
    "print(f\"The Ending values of the Perceptron \\/\\n{XOR1}The Error = {XOR1.error(expected_output_XOR)}\\n\")"
   ]
  },
  {
   "cell_type": "markdown",
   "metadata": {},
   "source": [
    "Een Xor gate is niet lineair scheidbaar en daarvoor niet mogelijk om met 1 perceptron te maken"
   ]
  },
  {
   "cell_type": "markdown",
   "metadata": {},
   "source": [
    "# Iris DataSet\n",
    "\n",
    "![](https://cdn.discordapp.com/attachments/808321877193916456/812253070036566086/1280px-Iris_dataset_scatterplot.png)"
   ]
  },
  {
   "cell_type": "markdown",
   "metadata": {},
   "source": [
    "# Analyse\n",
    "\n",
    "De Iris data set bevat 3 soort bloemen die geclassificeerd kunnen worden, zoals hierboven staat weergegeven zijn er 4 features tot onze beschrikken in deze dataset. \n",
    "\n",
    "Een enkele perceptron kan alleen onderscheid maken tussen 2 dingen en niet 3 dingen. Mijn verwachting zou zijn dat als je 1 Perceptron gebruikt voor alle 3 tegelijk, dat je een maximale accuraty van 33% zou kunnen halen (wel of niet een specifieke bloem)\n",
    " Zie uitwerking hier onder dat mijn voorspelling correct is 😊\n",
    "\n",
    "De correcte aanpak zou zijn om meerdere layers tebruiken en dan backpropagation te gebruiken maar dat valt buiten de scope van de opdracht dussss… dan maar alleen de Setosa en Versicolor onderscheiden\n"
   ]
  },
  {
   "cell_type": "markdown",
   "metadata": {},
   "source": [
    "# Setosa en Versicolor"
   ]
  },
  {
   "cell_type": "code",
   "execution_count": 10,
   "metadata": {},
   "outputs": [],
   "source": [
    "from sklearn.datasets import load_iris"
   ]
  },
  {
   "cell_type": "code",
   "execution_count": 11,
   "metadata": {},
   "outputs": [],
   "source": [
    "dataset = load_iris()"
   ]
  },
  {
   "cell_type": "code",
   "execution_count": 12,
   "metadata": {},
   "outputs": [],
   "source": [
    "dataSeVi = dataset['data'].tolist()[:100]\n",
    "targetSeVi = dataset['target'][:100]\n",
    "target_namesSeVi = dataset['target_names'][:2]\n",
    "feature_namesSeVi = dataset['feature_names']\n",
    "targetSeVi = [[x] for x in targetSeVi]\n",
    "expected_resultsSeVi = tuple(zip(dataSeVi, list(targetSeVi)))"
   ]
  },
  {
   "cell_type": "code",
   "execution_count": 13,
   "metadata": {},
   "outputs": [
    {
     "name": "stdout",
     "output_type": "stream",
     "text": [
      "This is a SeViFlowers Perceptron and has [0, 0, 0, 0] as input and has [7.6, 2.4, 5.3, 7.2] as weights and has -3 as bias and output of this perceptron = False\n",
      " \n",
      "This is a SeViFlowers Perceptron and has [5.7, 2.8, 4.1, 1.3] as input and has [0.1499999999999998, -2.650000000000001, 3.1100000000000008, 6.860000000000005] as weights and has -4.499999999999999 as bias and output of this perceptron = True\n",
      " \n"
     ]
    }
   ],
   "source": [
    "SeViFlowers = im.InputNW(inputWeight=random_number_list(len(feature_namesSeVi)), bias=random_number_float(), idPerceptron='SeViFlowers')\n",
    "SeViFlowers.activate([0,0,0,0])\n",
    "print(SeViFlowers)\n",
    "\n",
    "SeViFlowers.update(expected_resultsSeVi, epoch=5000)\n",
    "print(SeViFlowers)"
   ]
  },
  {
   "cell_type": "code",
   "execution_count": 14,
   "metadata": {
    "scrolled": false
   },
   "outputs": [],
   "source": [
    "output = []\n",
    "for idex,value in enumerate(range(len(dataSeVi))):\n",
    "    SeViFlowers.activate(dataSeVi[idex])\n",
    "    output.append(SeViFlowers.getOutput())"
   ]
  },
  {
   "cell_type": "code",
   "execution_count": 15,
   "metadata": {},
   "outputs": [
    {
     "data": {
      "text/plain": [
       "1.0"
      ]
     },
     "execution_count": 15,
     "metadata": {},
     "output_type": "execute_result"
    }
   ],
   "source": [
    "accuracy_score(targetSeVi, output)"
   ]
  },
  {
   "cell_type": "code",
   "execution_count": 16,
   "metadata": {
    "scrolled": true
   },
   "outputs": [
    {
     "data": {
      "text/plain": [
       "<AxesSubplot:>"
      ]
     },
     "execution_count": 16,
     "metadata": {},
     "output_type": "execute_result"
    },
    {
     "data": {
      "image/png": "[encoded data removed]",
      "text/plain": [
       "<Figure size 432x288 with 2 Axes>"
      ]
     },
     "metadata": {
      "needs_background": "light"
     },
     "output_type": "display_data"
    }
   ],
   "source": [
    "import seaborn as sns\n",
    "from sklearn.metrics import confusion_matrix\n",
    "sns.heatmap(confusion_matrix(targetSeVi, output))\n"
   ]
  },
  {
   "cell_type": "markdown",
   "metadata": {},
   "source": [
    "# 100% Accuracy!!!\n",
    "\n",
    "was te verwachten, dit probleem is linear goed scheidbaar"
   ]
  },
  {
   "cell_type": "markdown",
   "metadata": {},
   "source": [
    "De uiteindelijke parameters zijn [0.1499999999999998, -2.650000000000001, 3.1100000000000008, 6.860000000000005] als weights\n",
    "\n",
    "en -4.499999999999999 als bias"
   ]
  },
  {
   "cell_type": "markdown",
   "metadata": {},
   "source": [
    "## Alle 3 de bloemen"
   ]
  },
  {
   "cell_type": "code",
   "execution_count": 17,
   "metadata": {},
   "outputs": [],
   "source": [
    "from sklearn.datasets import load_iris"
   ]
  },
  {
   "cell_type": "code",
   "execution_count": 18,
   "metadata": {},
   "outputs": [],
   "source": [
    "dataset = load_iris()"
   ]
  },
  {
   "cell_type": "code",
   "execution_count": 19,
   "metadata": {},
   "outputs": [],
   "source": [
    "data = dataset['data'].tolist()\n",
    "target = dataset['target']\n",
    "target_names = dataset['target_names']\n",
    "feature_names = dataset['feature_names']\n",
    "target = [[x] for x in target]\n",
    "expected_results = tuple(zip(data, list(target)))"
   ]
  },
  {
   "cell_type": "code",
   "execution_count": 21,
   "metadata": {},
   "outputs": [
    {
     "name": "stdout",
     "output_type": "stream",
     "text": [
      "This is a threeFlowers Perceptron and has [0, 0, 0, 0] as input and has [2.0, 3.3, 2.4, 8.3] as weights and has -9 as bias and output of this perceptron = False\n",
      " \n",
      "This is a threeFlowers Perceptron and has [5.9, 3.0, 5.1, 1.8] as input and has [39574.059999984864, -11331.589999999427, 102258.84000000898, 44509.39000010047] as weights and has -4.600000000000016 as bias and output of this perceptron = True\n",
      " \n"
     ]
    }
   ],
   "source": [
    "threeFlowers = im.InputNW(inputWeight=random_number_list(len(feature_names)), bias=random_number_float(), idPerceptron='threeFlowers')\n",
    "threeFlowers.activate([0,0,0,0])\n",
    "print(threeFlowers)\n",
    "\n",
    "threeFlowers.update(expected_results, epoch=5000)\n",
    "print(threeFlowers)"
   ]
  },
  {
   "cell_type": "code",
   "execution_count": 22,
   "metadata": {
    "scrolled": false
   },
   "outputs": [],
   "source": [
    "output = []\n",
    "for idex,value in enumerate(range(len(data))):\n",
    "    threeFlowers.activate(data[idex])\n",
    "    output.append(threeFlowers.getOutput())"
   ]
  },
  {
   "cell_type": "code",
   "execution_count": 23,
   "metadata": {},
   "outputs": [
    {
     "data": {
      "text/plain": [
       "0.3333333333333333"
      ]
     },
     "execution_count": 23,
     "metadata": {},
     "output_type": "execute_result"
    }
   ],
   "source": [
    "accuracy_score(target, output)"
   ]
  },
  {
   "cell_type": "code",
   "execution_count": 24,
   "metadata": {
    "scrolled": true
   },
   "outputs": [
    {
     "data": {
      "text/plain": [
       "<AxesSubplot:>"
      ]
     },
     "execution_count": 24,
     "metadata": {},
     "output_type": "execute_result"
    },
    {
     "data": {
      "image/png": "[encoded data removed]",
      "text/plain": [
       "<Figure size 432x288 with 2 Axes>"
      ]
     },
     "metadata": {
      "needs_background": "light"
     },
     "output_type": "display_data"
    }
   ],
   "source": [
    "import seaborn as sns\n",
    "from sklearn.metrics import confusion_matrix\n",
    "sns.heatmap(confusion_matrix(target, output))\n"
   ]
  },
  {
   "cell_type": "markdown",
   "metadata": {},
   "source": [
    "# 33,33% accuracy !!!!"
   ]
  },
  {
   "cell_type": "markdown",
   "metadata": {},
   "source": [
    "Mijn voorspelling is correct, er is een accuratie van 33% gehaald"
   ]
  },
  {
   "cell_type": "markdown",
   "metadata": {},
   "source": [
    "De uiteindelijke parameters zijn [39574.059999984864, -11331.589999999427, 102258.84000000898, 44509.39000010047] als weights\n",
    "\n",
    "en -4.600000000000016 als bias"
   ]
  }
 ],
 "metadata": {
  "kernelspec": {
   "display_name": "Python 3",
   "language": "python",
   "name": "python3"
  },
  "language_info": {
   "codemirror_mode": {
    "name": "ipython",
    "version": 3
   },
   "file_extension": ".py",
   "mimetype": "text/x-python",
   "name": "python",
   "nbconvert_exporter": "python",
   "pygments_lexer": "ipython3",
   "version": "3.8.6"
  }
 },
 "nbformat": 4,
 "nbformat_minor": 4
}
