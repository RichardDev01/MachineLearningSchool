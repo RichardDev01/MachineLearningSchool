{
 "cells": [
  {
   "cell_type": "markdown",
   "metadata": {},
   "source": [
    "# P4 - Backpropagation\n",
    "\n",
    "## Richard Jansen 1762581\n",
    "\n",
    "![](https://cdn.discordapp.com/attachments/808321877193916456/819915534132707358/unknown.png)"
   ]
  },
  {
   "cell_type": "markdown",
   "metadata": {},
   "source": [
    " ### De AND / XOR / Half adder worden in neuron_unit_test.py uitgewerkt"
   ]
  },
  {
   "cell_type": "code",
   "execution_count": 1,
   "metadata": {},
   "outputs": [],
   "source": [
    "import neuron_mod as im\n",
    "import neuronLayer_mod as ptl\n",
    "import neuronNetwork_mod as ptn\n",
    "from sklearn.metrics import accuracy_score\n",
    "from sklearn.datasets import load_iris\n",
    "from sklearn.model_selection import train_test_split\n",
    "\n",
    "import pandas as pd\n",
    "import numpy as np\n",
    "import random"
   ]
  },
  {
   "cell_type": "code",
   "execution_count": 2,
   "metadata": {
    "scrolled": true
   },
   "outputs": [],
   "source": [
    "dataset = load_iris()"
   ]
  },
  {
   "cell_type": "code",
   "execution_count": 3,
   "metadata": {},
   "outputs": [],
   "source": [
    "data_x = dataset['data'].tolist()\n",
    "data_y = pd.get_dummies(dataset.target).values.tolist()"
   ]
  },
  {
   "cell_type": "code",
   "execution_count": 4,
   "metadata": {},
   "outputs": [],
   "source": [
    "X_train, X_test, y_train, y_test = train_test_split(data_x, data_y,test_size = 0.4, random_state=42)"
   ]
  },
  {
   "cell_type": "code",
   "execution_count": 5,
   "metadata": {},
   "outputs": [
    {
     "data": {
      "text/plain": [
       "[[0, 0, 1],\n",
       " [1, 0, 0],\n",
       " [1, 0, 0],\n",
       " [1, 0, 0],\n",
       " [0, 1, 0],\n",
       " [1, 0, 0],\n",
       " [0, 1, 0],\n",
       " [0, 0, 1],\n",
       " [1, 0, 0],\n",
       " [0, 1, 0],\n",
       " [0, 0, 1],\n",
       " [1, 0, 0],\n",
       " [0, 0, 1],\n",
       " [0, 0, 1],\n",
       " [0, 1, 0],\n",
       " [0, 1, 0],\n",
       " [0, 0, 1],\n",
       " [0, 1, 0],\n",
       " [1, 0, 0],\n",
       " [0, 1, 0],\n",
       " [0, 0, 1],\n",
       " [1, 0, 0],\n",
       " [1, 0, 0],\n",
       " [0, 1, 0],\n",
       " [0, 1, 0],\n",
       " [1, 0, 0],\n",
       " [0, 0, 1],\n",
       " [1, 0, 0],\n",
       " [1, 0, 0],\n",
       " [0, 1, 0],\n",
       " [0, 1, 0],\n",
       " [0, 0, 1],\n",
       " [0, 1, 0],\n",
       " [0, 0, 1],\n",
       " [0, 0, 1],\n",
       " [0, 1, 0],\n",
       " [1, 0, 0],\n",
       " [1, 0, 0],\n",
       " [0, 0, 1],\n",
       " [0, 0, 1],\n",
       " [1, 0, 0],\n",
       " [1, 0, 0],\n",
       " [1, 0, 0],\n",
       " [0, 1, 0],\n",
       " [0, 0, 1],\n",
       " [1, 0, 0],\n",
       " [0, 0, 1],\n",
       " [0, 0, 1],\n",
       " [1, 0, 0],\n",
       " [0, 1, 0],\n",
       " [0, 1, 0],\n",
       " [0, 0, 1],\n",
       " [0, 1, 0],\n",
       " [0, 0, 1],\n",
       " [1, 0, 0],\n",
       " [0, 0, 1],\n",
       " [0, 1, 0],\n",
       " [0, 0, 1],\n",
       " [0, 1, 0],\n",
       " [0, 1, 0],\n",
       " [0, 1, 0],\n",
       " [1, 0, 0],\n",
       " [0, 1, 0],\n",
       " [0, 1, 0],\n",
       " [1, 0, 0],\n",
       " [0, 1, 0],\n",
       " [0, 0, 1],\n",
       " [0, 0, 1],\n",
       " [1, 0, 0],\n",
       " [0, 1, 0],\n",
       " [0, 0, 1],\n",
       " [0, 0, 1],\n",
       " [1, 0, 0],\n",
       " [0, 0, 1],\n",
       " [1, 0, 0],\n",
       " [0, 1, 0],\n",
       " [0, 0, 1],\n",
       " [0, 0, 1],\n",
       " [0, 1, 0],\n",
       " [0, 0, 1],\n",
       " [0, 1, 0],\n",
       " [0, 1, 0],\n",
       " [0, 0, 1],\n",
       " [0, 0, 1],\n",
       " [1, 0, 0],\n",
       " [0, 1, 0],\n",
       " [0, 0, 1],\n",
       " [1, 0, 0],\n",
       " [0, 1, 0],\n",
       " [0, 0, 1]]"
      ]
     },
     "execution_count": 5,
     "metadata": {},
     "output_type": "execute_result"
    }
   ],
   "source": [
    "y_train"
   ]
  },
  {
   "cell_type": "code",
   "execution_count": 6,
   "metadata": {},
   "outputs": [],
   "source": [
    "trainset = list(zip(X_train,y_train))"
   ]
  },
  {
   "cell_type": "code",
   "execution_count": 7,
   "metadata": {},
   "outputs": [],
   "source": [
    "validationset = list(zip(X_test,y_test))"
   ]
  },
  {
   "cell_type": "code",
   "execution_count": 8,
   "metadata": {
    "scrolled": true
   },
   "outputs": [
    {
     "data": {
      "text/plain": [
       "[([6.3, 2.7, 4.9, 1.8], [0, 0, 1]),\n",
       " ([4.8, 3.4, 1.9, 0.2], [1, 0, 0]),\n",
       " ([5.0, 3.0, 1.6, 0.2], [1, 0, 0]),\n",
       " ([5.1, 3.3, 1.7, 0.5], [1, 0, 0]),\n",
       " ([5.6, 2.7, 4.2, 1.3], [0, 1, 0]),\n",
       " ([5.1, 3.4, 1.5, 0.2], [1, 0, 0]),\n",
       " ([5.7, 3.0, 4.2, 1.2], [0, 1, 0]),\n",
       " ([7.7, 3.8, 6.7, 2.2], [0, 0, 1]),\n",
       " ([4.6, 3.2, 1.4, 0.2], [1, 0, 0]),\n",
       " ([6.2, 2.9, 4.3, 1.3], [0, 1, 0]),\n",
       " ([5.7, 2.5, 5.0, 2.0], [0, 0, 1]),\n",
       " ([5.5, 4.2, 1.4, 0.2], [1, 0, 0]),\n",
       " ([6.0, 3.0, 4.8, 1.8], [0, 0, 1]),\n",
       " ([5.8, 2.7, 5.1, 1.9], [0, 0, 1]),\n",
       " ([6.0, 2.2, 4.0, 1.0], [0, 1, 0]),\n",
       " ([5.4, 3.0, 4.5, 1.5], [0, 1, 0]),\n",
       " ([6.2, 3.4, 5.4, 2.3], [0, 0, 1]),\n",
       " ([5.5, 2.3, 4.0, 1.3], [0, 1, 0]),\n",
       " ([5.4, 3.9, 1.7, 0.4], [1, 0, 0]),\n",
       " ([5.0, 2.3, 3.3, 1.0], [0, 1, 0]),\n",
       " ([6.4, 2.7, 5.3, 1.9], [0, 0, 1]),\n",
       " ([5.0, 3.3, 1.4, 0.2], [1, 0, 0]),\n",
       " ([5.0, 3.2, 1.2, 0.2], [1, 0, 0]),\n",
       " ([5.5, 2.4, 3.8, 1.1], [0, 1, 0]),\n",
       " ([6.7, 3.0, 5.0, 1.7], [0, 1, 0]),\n",
       " ([4.9, 3.1, 1.5, 0.2], [1, 0, 0]),\n",
       " ([5.8, 2.8, 5.1, 2.4], [0, 0, 1]),\n",
       " ([5.0, 3.4, 1.5, 0.2], [1, 0, 0]),\n",
       " ([5.0, 3.5, 1.6, 0.6], [1, 0, 0]),\n",
       " ([5.9, 3.2, 4.8, 1.8], [0, 1, 0]),\n",
       " ([5.1, 2.5, 3.0, 1.1], [0, 1, 0]),\n",
       " ([6.9, 3.2, 5.7, 2.3], [0, 0, 1]),\n",
       " ([6.0, 2.7, 5.1, 1.6], [0, 1, 0]),\n",
       " ([6.1, 2.6, 5.6, 1.4], [0, 0, 1]),\n",
       " ([7.7, 3.0, 6.1, 2.3], [0, 0, 1]),\n",
       " ([5.5, 2.5, 4.0, 1.3], [0, 1, 0]),\n",
       " ([4.4, 2.9, 1.4, 0.2], [1, 0, 0]),\n",
       " ([4.3, 3.0, 1.1, 0.1], [1, 0, 0]),\n",
       " ([6.0, 2.2, 5.0, 1.5], [0, 0, 1]),\n",
       " ([7.2, 3.2, 6.0, 1.8], [0, 0, 1]),\n",
       " ([4.6, 3.1, 1.5, 0.2], [1, 0, 0]),\n",
       " ([5.1, 3.5, 1.4, 0.3], [1, 0, 0]),\n",
       " ([4.4, 3.0, 1.3, 0.2], [1, 0, 0]),\n",
       " ([6.3, 2.5, 4.9, 1.5], [0, 1, 0]),\n",
       " ([6.3, 3.4, 5.6, 2.4], [0, 0, 1]),\n",
       " ([4.6, 3.4, 1.4, 0.3], [1, 0, 0]),\n",
       " ([6.8, 3.0, 5.5, 2.1], [0, 0, 1]),\n",
       " ([6.3, 3.3, 6.0, 2.5], [0, 0, 1]),\n",
       " ([4.7, 3.2, 1.3, 0.2], [1, 0, 0]),\n",
       " ([6.1, 2.9, 4.7, 1.4], [0, 1, 0]),\n",
       " ([6.5, 2.8, 4.6, 1.5], [0, 1, 0]),\n",
       " ([6.2, 2.8, 4.8, 1.8], [0, 0, 1]),\n",
       " ([7.0, 3.2, 4.7, 1.4], [0, 1, 0]),\n",
       " ([6.4, 3.2, 5.3, 2.3], [0, 0, 1]),\n",
       " ([5.1, 3.8, 1.6, 0.2], [1, 0, 0]),\n",
       " ([6.9, 3.1, 5.4, 2.1], [0, 0, 1]),\n",
       " ([5.9, 3.0, 4.2, 1.5], [0, 1, 0]),\n",
       " ([6.5, 3.0, 5.2, 2.0], [0, 0, 1]),\n",
       " ([5.7, 2.6, 3.5, 1.0], [0, 1, 0]),\n",
       " ([5.2, 2.7, 3.9, 1.4], [0, 1, 0]),\n",
       " ([6.1, 3.0, 4.6, 1.4], [0, 1, 0]),\n",
       " ([4.5, 2.3, 1.3, 0.3], [1, 0, 0]),\n",
       " ([6.6, 2.9, 4.6, 1.3], [0, 1, 0]),\n",
       " ([5.5, 2.6, 4.4, 1.2], [0, 1, 0]),\n",
       " ([5.3, 3.7, 1.5, 0.2], [1, 0, 0]),\n",
       " ([5.6, 3.0, 4.1, 1.3], [0, 1, 0]),\n",
       " ([7.3, 2.9, 6.3, 1.8], [0, 0, 1]),\n",
       " ([6.7, 3.3, 5.7, 2.1], [0, 0, 1]),\n",
       " ([5.1, 3.7, 1.5, 0.4], [1, 0, 0]),\n",
       " ([4.9, 2.4, 3.3, 1.0], [0, 1, 0]),\n",
       " ([6.7, 3.3, 5.7, 2.5], [0, 0, 1]),\n",
       " ([7.2, 3.0, 5.8, 1.6], [0, 0, 1]),\n",
       " ([4.9, 3.6, 1.4, 0.1], [1, 0, 0]),\n",
       " ([6.7, 3.1, 5.6, 2.4], [0, 0, 1]),\n",
       " ([4.9, 3.0, 1.4, 0.2], [1, 0, 0]),\n",
       " ([6.9, 3.1, 4.9, 1.5], [0, 1, 0]),\n",
       " ([7.4, 2.8, 6.1, 1.9], [0, 0, 1]),\n",
       " ([6.3, 2.9, 5.6, 1.8], [0, 0, 1]),\n",
       " ([5.7, 2.8, 4.1, 1.3], [0, 1, 0]),\n",
       " ([6.5, 3.0, 5.5, 1.8], [0, 0, 1]),\n",
       " ([6.3, 2.3, 4.4, 1.3], [0, 1, 0]),\n",
       " ([6.4, 2.9, 4.3, 1.3], [0, 1, 0]),\n",
       " ([5.6, 2.8, 4.9, 2.0], [0, 0, 1]),\n",
       " ([5.9, 3.0, 5.1, 1.8], [0, 0, 1]),\n",
       " ([5.4, 3.4, 1.7, 0.2], [1, 0, 0]),\n",
       " ([6.1, 2.8, 4.0, 1.3], [0, 1, 0]),\n",
       " ([4.9, 2.5, 4.5, 1.7], [0, 0, 1]),\n",
       " ([5.8, 4.0, 1.2, 0.2], [1, 0, 0]),\n",
       " ([5.8, 2.6, 4.0, 1.2], [0, 1, 0]),\n",
       " ([7.1, 3.0, 5.9, 2.1], [0, 0, 1])]"
      ]
     },
     "execution_count": 8,
     "metadata": {},
     "output_type": "execute_result"
    }
   ],
   "source": [
    "trainset"
   ]
  },
  {
   "cell_type": "code",
   "execution_count": 9,
   "metadata": {},
   "outputs": [],
   "source": [
    "neuronsl = im.Neuron(inputWeight=[0.0, 0.1,0.2,0.3], bias=0)\n",
    "neuronsw = im.Neuron(inputWeight=[0.5, 0.6,0.7,0.8], bias=0)\n",
    "neuronpl = im.Neuron(inputWeight=[0.9, 1.0,1.1,1.2], bias=0)\n",
    "\n",
    "layer1 = ptl.NeuronLayer([neuronsl, neuronsw, neuronpl], idLayer='FirstLayer')\n",
    "\n",
    "neuronse =im.Neuron(inputWeight=[0.0, 0.1, 0.2], bias=0,idNeuron='setosa')\n",
    "neuronve =im.Neuron(inputWeight=[0.3, 0.4, 0.5], bias=0,idNeuron='versicolor')\n",
    "neuronvi =im.Neuron(inputWeight=[0.6, 0.7, 0.8], bias=0,idNeuron='virginica')\n",
    "\n",
    "layer2 = ptl.NeuronLayer([neuronse, neuronve, neuronvi], idLayer='SecondLayer')\n",
    "\n",
    "network = ptn.NeuronNetwork([layer1,layer2])"
   ]
  },
  {
   "cell_type": "code",
   "execution_count": 10,
   "metadata": {},
   "outputs": [
    {
     "name": "stdout",
     "output_type": "stream",
     "text": [
      "network total loss trainset = [0.14266998063783012, 0.19764251430280141, 0.2491834089468487]\n"
     ]
    }
   ],
   "source": [
    "print(f\"network total loss trainset = {network.calc_total_loss(trainset)}\")"
   ]
  },
  {
   "cell_type": "code",
   "execution_count": 11,
   "metadata": {
    "scrolled": true
   },
   "outputs": [],
   "source": [
    "network.train(trainset, learningRate= 0.1, epochs = 200, time_limit = 100)"
   ]
  },
  {
   "cell_type": "code",
   "execution_count": 12,
   "metadata": {
    "scrolled": true
   },
   "outputs": [
    {
     "name": "stdout",
     "output_type": "stream",
     "text": [
      "network total loss trainset = [0.006956386653075431, 0.11240608748019787, 0.02815680368427764]\n"
     ]
    }
   ],
   "source": [
    "print(f\"network total loss trainset = {network.calc_total_loss(trainset)}\")"
   ]
  },
  {
   "cell_type": "code",
   "execution_count": 13,
   "metadata": {},
   "outputs": [
    {
     "name": "stdout",
     "output_type": "stream",
     "text": [
      "de score op het netwerk op de trainset = 86.66666666666667%\n"
     ]
    }
   ],
   "source": [
    "result = []\n",
    "result.clear()\n",
    "for index, i in enumerate(trainset):\n",
    "    output = network.feed_forward(i[0])\n",
    "#     print(f\"{output} ----> {np.argmax(output)}\")\n",
    "    result.append(i[1][np.argmax(output)])\n",
    "    \n",
    "print(f\"de score op het netwerk op de trainset = {sum(result)/len(result)*100}%\")"
   ]
  },
  {
   "cell_type": "code",
   "execution_count": 14,
   "metadata": {},
   "outputs": [
    {
     "name": "stdout",
     "output_type": "stream",
     "text": [
      "de score op het netwerk op de validatie set = 93.33333333333333%\n"
     ]
    }
   ],
   "source": [
    "result = []\n",
    "result.clear()\n",
    "for index, i in enumerate(validationset):\n",
    "    output = network.feed_forward(i[0])\n",
    "#     print(f\"{output} ----> {np.argmax(output)}\")\n",
    "    result.append(i[1][np.argmax(output)])\n",
    "    \n",
    "print(f\"de score op het netwerk op de validatie set = {sum(result)/len(result)*100}%\")"
   ]
  },
  {
   "cell_type": "code",
   "execution_count": 15,
   "metadata": {},
   "outputs": [
    {
     "name": "stdout",
     "output_type": "stream",
     "text": [
      "layers = \\/\n",
      "\n",
      "FirstLayer neuron layer has: \n",
      " This is a ND Neuron |[5.0, 2.0, 3.5, 1.0] as input | [-0.9285079231675888, -1.5722905709797508, 1.7887108935913583, 2.3705803099166523] as weights | -0.4223012112271954 as bias | -0.00386153185058887 as current error and Output = 0.6038771002561587\n",
      " This is a ND Neuron |[5.0, 2.0, 3.5, 1.0] as input | [0.6314166786902893, 0.6876131781736832, 0.7383010460042752, 0.8057956968452735] as weights | 0.027440633049646748 as bias | 1.1162805359146628e-07 as current error and Output = 0.9996473191918885\n",
      " This is a ND Neuron |[5.0, 2.0, 3.5, 1.0] as input | [0.9048600377374902, 1.0031970168587734, 1.1014014348745056, 1.200212906151829] as weights | 0.001034456616971391 as bias | 3.5205924542618017e-10 as current error and Output = 0.9999907125645746\n",
      "  \n",
      " layer triggers[0.6038771002561587, 0.9996473191918885, 0.9999907125645746]\n",
      "SecondLayer neuron layer has: \n",
      " This is a setosa Neuron |[0.6038771002561587, 0.9996473191918885, 0.9999907125645746] as input | [-8.347341061358717, 0.48586705649871437, 0.6274058221672337] as weights | 0.428874273630752 as bias | 1.7867636968273303e-06 as current error and Output = 0.02934651353255903\n",
      " This is a versicolor Neuron |[0.6038771002561587, 0.9996473191918885, 0.9999907125645746] as input | [0.13946305312470209, -0.1082342537017217, -0.0546738555218706] as weights | -0.5569075878483357 as bias | 0.0848874107438937 as current error and Output = 0.3462513383271135\n",
      " This is a virginica Neuron |[0.6038771002561587, 0.9996473191918885, 0.9999907125645746] as input | [7.935499503665215, -1.8375285159167782, -1.753050301466724] as weights | -2.5533473185521305 as bias | -0.0234064674734703 as current error and Output = 0.20567516158119428\n",
      "  \n",
      " layer triggers[0.02934651353255903, 0.3462513383271135, 0.20567516158119428]\n"
     ]
    }
   ],
   "source": [
    "print(network)"
   ]
  },
  {
   "cell_type": "markdown",
   "metadata": {},
   "source": [
    "# Mijn netwerk werkt goed (～￣▽￣)～"
   ]
  }
 ],
 "metadata": {
  "kernelspec": {
   "display_name": "Python 3",
   "language": "python",
   "name": "python3"
  },
  "language_info": {
   "codemirror_mode": {
    "name": "ipython",
    "version": 3
   },
   "file_extension": ".py",
   "mimetype": "text/x-python",
   "name": "python",
   "nbconvert_exporter": "python",
   "pygments_lexer": "ipython3",
   "version": "3.8.6"
  }
 },
 "nbformat": 4,
 "nbformat_minor": 4
}
