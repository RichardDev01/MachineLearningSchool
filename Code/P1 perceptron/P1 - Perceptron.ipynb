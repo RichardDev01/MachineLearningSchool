{
 "cells": [
  {
   "cell_type": "markdown",
   "metadata": {},
   "source": [
    "# P1 - Perceptron\n",
    "\n",
    "![](https://cdn.discordapp.com/attachments/701351521433944066/808318912126124052/unknown.png)"
   ]
  },
  {
   "cell_type": "code",
   "execution_count": 1,
   "metadata": {},
   "outputs": [],
   "source": [
    "import perceptron_mod as im\n",
    "import perceptronLayer_mod as ptl\n",
    "import perceptronNetwork_mod as ptn"
   ]
  },
  {
   "cell_type": "markdown",
   "metadata": {},
   "source": [
    "## INVERT Perceptron\n",
    "<img src=\"https://cdn.discordapp.com/attachments/808321877193916456/808321920998178816/20210208_140211.jpg\" width=\"400\">"
   ]
  },
  {
   "cell_type": "code",
   "execution_count": 2,
   "metadata": {},
   "outputs": [],
   "source": [
    "I_input = 1"
   ]
  },
  {
   "cell_type": "code",
   "execution_count": 3,
   "metadata": {},
   "outputs": [
    {
     "data": {
      "text/plain": [
       "'forwardfeed = [[True]] '"
      ]
     },
     "execution_count": 3,
     "metadata": {},
     "output_type": "execute_result"
    }
   ],
   "source": [
    "inputInverter = im.InputNW(inputvaluelist=[I_input],inputWeight =[-1], bias=1)\n",
    "inputlistInverter = [inputInverter]\n",
    "layerOneInv = ptl.perceptronLayer(inputlistInverter)\n",
    "networkOne = ptn.PerceptronNetwork([layerOneInv])\n",
    "\n",
    "networkOne.__str__()"
   ]
  },
  {
   "cell_type": "code",
   "execution_count": 4,
   "metadata": {},
   "outputs": [],
   "source": [
    "I_input = 0"
   ]
  },
  {
   "cell_type": "code",
   "execution_count": 5,
   "metadata": {},
   "outputs": [
    {
     "data": {
      "text/plain": [
       "'forwardfeed = [[True]] '"
      ]
     },
     "execution_count": 5,
     "metadata": {},
     "output_type": "execute_result"
    }
   ],
   "source": [
    "inputInverter = im.InputNW(inputvaluelist=[I_input],inputWeight =[-1], bias=1)\n",
    "inputlistInverter = [inputInverter]\n",
    "layerOneInv = ptl.perceptronLayer(inputlistInverter)\n",
    "networkOne = ptn.PerceptronNetwork([layerOneInv])\n",
    "\n",
    "networkOne.__str__()"
   ]
  },
  {
   "cell_type": "markdown",
   "metadata": {},
   "source": [
    "## AND Perceptron\n",
    "<img src=\"https://cdn.discordapp.com/attachments/808321877193916456/808324719711223809/20210208_141342.jpg\" width=\"400\">\n"
   ]
  },
  {
   "cell_type": "code",
   "execution_count": 6,
   "metadata": {},
   "outputs": [],
   "source": [
    "I1_input = 0\n",
    "I2_input = 0"
   ]
  },
  {
   "cell_type": "code",
   "execution_count": 7,
   "metadata": {},
   "outputs": [
    {
     "data": {
      "text/plain": [
       "'forwardfeed = [[False]] '"
      ]
     },
     "execution_count": 7,
     "metadata": {},
     "output_type": "execute_result"
    }
   ],
   "source": [
    "inputAND = im.InputNW(inputvaluelist=[I1_input,I2_input],inputWeight =[1,1], bias=-2)\n",
    "inputlistAND = [inputAND]\n",
    "layerOneAND = ptl.perceptronLayer(inputlistAND)\n",
    "networkOneAND = ptn.PerceptronNetwork([layerOneAND])\n",
    "\n",
    "networkOneAND.__str__()"
   ]
  },
  {
   "cell_type": "code",
   "execution_count": 8,
   "metadata": {},
   "outputs": [],
   "source": [
    "I1_input = 1\n",
    "I2_input = 0"
   ]
  },
  {
   "cell_type": "code",
   "execution_count": 9,
   "metadata": {},
   "outputs": [
    {
     "data": {
      "text/plain": [
       "'forwardfeed = [[False]] '"
      ]
     },
     "execution_count": 9,
     "metadata": {},
     "output_type": "execute_result"
    }
   ],
   "source": [
    "inputAND = im.InputNW(inputvaluelist=[I1_input,I2_input],inputWeight =[1,1], bias=-2)\n",
    "inputlistAND = [inputAND]\n",
    "layerOneAND = ptl.perceptronLayer(inputlistAND)\n",
    "networkOneAND = ptn.PerceptronNetwork([layerOneAND])\n",
    "\n",
    "networkOneAND.__str__()"
   ]
  },
  {
   "cell_type": "markdown",
   "metadata": {},
   "source": [
    "output = inputAND.activate(input1,input2)"
   ]
  },
  {
   "cell_type": "code",
   "execution_count": null,
   "metadata": {},
   "outputs": [],
   "source": [
    "output = networkXOR.feedforward(input1,input2)"
   ]
  },
  {
   "cell_type": "code",
   "execution_count": 10,
   "metadata": {},
   "outputs": [],
   "source": [
    "I1_input = 1\n",
    "I2_input = 1"
   ]
  },
  {
   "cell_type": "code",
   "execution_count": 11,
   "metadata": {},
   "outputs": [
    {
     "data": {
      "text/plain": [
       "'forwardfeed = [[True]] '"
      ]
     },
     "execution_count": 11,
     "metadata": {},
     "output_type": "execute_result"
    }
   ],
   "source": [
    "inputAND = im.InputNW(inputvaluelist=[I1_input,I2_input],inputWeight =[1,1], bias=-2)\n",
    "inputlistAND = [inputAND]\n",
    "layerOneAND = ptl.perceptronLayer(inputlistAND)\n",
    "networkOneAND = ptn.PerceptronNetwork([layerOneAND])\n",
    "\n",
    "networkOneAND.__str__()"
   ]
  },
  {
   "cell_type": "code",
   "execution_count": 14,
   "metadata": {},
   "outputs": [
    {
     "name": "stdout",
     "output_type": "stream",
     "text": [
      "p.layer has: \n",
      " This input has [(1, 1), (1, 1)] as input and input has -2 as bias\n",
      "  \n",
      " layer triggers[True] \n",
      "\n",
      "\n"
     ]
    }
   ],
   "source": [
    "print(networkOneAND.getlayersInfo())"
   ]
  },
  {
   "cell_type": "code",
   "execution_count": 15,
   "metadata": {},
   "outputs": [
    {
     "name": "stdout",
     "output_type": "stream",
     "text": [
      "p.layer has: \n",
      " This input has [(1, 1), (1, 1)] as input and input has -2 as bias\n",
      "  \n",
      " layer triggers[True] \n",
      "\n",
      "\n"
     ]
    }
   ],
   "source": [
    "print(layerOneAND)"
   ]
  },
  {
   "cell_type": "markdown",
   "metadata": {},
   "source": [
    "## OR Perceptron\n",
    "<img src=\"https://cdn.discordapp.com/attachments/808321877193916456/808327166755733524/20210208_142327.jpg\" width=\"400\">\n"
   ]
  },
  {
   "cell_type": "code",
   "execution_count": null,
   "metadata": {},
   "outputs": [],
   "source": []
  }
 ],
 "metadata": {
  "kernelspec": {
   "display_name": "Python 3",
   "language": "python",
   "name": "python3"
  },
  "language_info": {
   "codemirror_mode": {
    "name": "ipython",
    "version": 3
   },
   "file_extension": ".py",
   "mimetype": "text/x-python",
   "name": "python",
   "nbconvert_exporter": "python",
   "pygments_lexer": "ipython3",
   "version": "3.8.6"
  }
 },
 "nbformat": 4,
 "nbformat_minor": 4
}
